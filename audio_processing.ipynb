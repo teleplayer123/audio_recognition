{
 "cells": [
  {
   "cell_type": "code",
   "execution_count": 1,
   "metadata": {},
   "outputs": [],
   "source": [
    "import os\n",
    "import numpy as np\n",
    "import tensorflow as tf\n",
    "import scipy.signal as sps\n",
    "from scipy.io import wavfile\n",
    "import matplotlib.pyplot as plt\n",
    "import pickle\n",
    "import m2cgen\n",
    "\n",
    "\n",
    "data_dir = os.path.join(os.getcwd(), \"data\", \"mini_speech_commands\")\n",
    "\n",
    "def downsample_waveform(waveform, num_bins):\n",
    "    waveform = np.array(waveform)\n",
    "    original_length = len(waveform)\n",
    "    points_per_bin = original_length // num_bins\n",
    "    downsampled_waveform = np.zeros(num_bins)\n",
    "    for i in range(num_bins):\n",
    "        start_index = i * points_per_bin\n",
    "        end_index = start_index + points_per_bin\n",
    "        downsampled_waveform[i] = waveform[start_index:end_index].mean()\n",
    "    return downsampled_waveform.tolist()\n",
    "\n",
    "def add_white_noise(audio):\n",
    "    #generate noise and the scalar multiplier\n",
    "    noise = tf.random.uniform(shape=tf.shape(audio), minval=-1, maxval=1)\n",
    "    noise_scalar = tf.random.uniform(shape=[1], minval=0, maxval=0.2)\n",
    "    # add them to the original audio\n",
    "    audio_with_noise = audio + (noise * noise_scalar)\n",
    "    # final clip the values to ensure they are still between -1 and 1\n",
    "    audio_with_noise = tf.clip_by_value(audio_with_noise, clip_value_min=-1, clip_value_max=1)\n",
    "    return audio_with_noise\n",
    "\n",
    "def extract_features(audio_file_path, window_size=1024, overlap=0, num_bins=16):\n",
    "    sample_rate, audio_data = wavfile.read(audio_file_path)\n",
    "    resampled_audio = sps.resample(audio_data, sample_rate)\n",
    "    # Add white noise to the audio\n",
    "    augmented_audio = add_white_noise(resampled_audio)\n",
    "    step_size = window_size - overlap\n",
    "    num_windows = (len(augmented_audio) - window_size) // step_size + 1\n",
    "    fft_results = []\n",
    "    for i in range(num_windows):\n",
    "        start_index = i * step_size\n",
    "        end_index = start_index + window_size\n",
    "        windowed_signal = augmented_audio[start_index:end_index]\n",
    "        \n",
    "        fft_result = np.fft.fft(windowed_signal)\n",
    "        fft_result = fft_result[0:int(fft_result.shape[0] / 2)]\n",
    "        fft_magnitude = np.abs(fft_result)\n",
    "        fft_magnitude[0] = 0\n",
    "        fft_magnitude = downsample_waveform(fft_magnitude, num_bins)\n",
    "        fft_results.extend(fft_magnitude)\n",
    "    return np.array(fft_results)\n"
   ]
  },
  {
   "cell_type": "code",
   "execution_count": 6,
   "metadata": {},
   "outputs": [
    {
     "name": "stdout",
     "output_type": "stream",
     "text": [
      "(50, 240)\n",
      "(50,)\n"
     ]
    }
   ],
   "source": [
    "def load_data(data_dir):\n",
    "    waveforms = []\n",
    "    labels = []\n",
    "    for dirname in os.listdir(data_dir):\n",
    "        if dirname in [\"go\", \"stop\"]:\n",
    "            label_dir = os.path.join(data_dir, dirname)\n",
    "            if dirname == \"go\":\n",
    "                label = 1\n",
    "            else:\n",
    "                label = 0\n",
    "            wav_files = [os.path.join(label_dir, fname) for fname in os.listdir(label_dir)[:25]]\n",
    "            feature_arr = []\n",
    "            for wav_file in wav_files:\n",
    "                xfeatures = extract_features(wav_file)\n",
    "                feature_arr.append(xfeatures)\n",
    "                labels.append(label)\n",
    "            waveforms.extend(np.array(feature_arr))\n",
    "            del feature_arr\n",
    "        else:\n",
    "            continue\n",
    "    return np.array(waveforms), np.array(labels)\n",
    "\n",
    "\n",
    "audio_data, labels = load_data(data_dir)\n",
    "\n",
    "print(np.shape(audio_data))\n",
    "print(np.shape(labels))"
   ]
  },
  {
   "cell_type": "code",
   "execution_count": null,
   "metadata": {},
   "outputs": [],
   "source": [
    "a = audio_data[0]\n",
    "plt.figure(figsize=(12, 8))\n",
    "rows = 3\n",
    "cols = 3\n",
    "for i in range(9):\n",
    "  data = a[i]\n",
    "  plt.subplot(rows, cols, i+1)\n",
    "  plt.plot(data)\n",
    "    "
   ]
  },
  {
   "cell_type": "markdown",
   "metadata": {},
   "source": [
    "# Sklearn Models"
   ]
  },
  {
   "cell_type": "code",
   "execution_count": 8,
   "metadata": {},
   "outputs": [
    {
     "name": "stdout",
     "output_type": "stream",
     "text": [
      "(40, 240)\n",
      "(10, 240)\n",
      "(40,)\n",
      "(10,)\n",
      "(50, 240)\n"
     ]
    }
   ],
   "source": [
    "from sklearn.model_selection import train_test_split, cross_val_score\n",
    "from sklearn.svm import LinearSVC, SVC\n",
    "from sklearn.linear_model import SGDClassifier\n",
    "from sklearn.neural_network import MLPClassifier\n",
    "\n",
    "\n",
    "model_params = {\n",
    "    \"activation\": \"relu\",\n",
    "    \"solver\": \"adam\",\n",
    "    \"alpha\": 0.001\n",
    "}\n",
    "\n",
    "x, y = audio_data, labels\n",
    "\n",
    "x_train, x_test, y_train, y_test = train_test_split(x, y, test_size=0.2, random_state=42)\n",
    "\n",
    "print(x_train.shape)\n",
    "print(x_test.shape)\n",
    "print(y_train.shape)\n",
    "print(y_test.shape)\n",
    "print(x.shape)"
   ]
  },
  {
   "cell_type": "code",
   "execution_count": 5,
   "metadata": {},
   "outputs": [],
   "source": [
    "new_shape = x.shape[1]*x.shape[2]\n",
    "x_train = np.reshape(x, (2, new_shape))\n",
    "y_train = np.ravel(y)"
   ]
  },
  {
   "cell_type": "markdown",
   "metadata": {},
   "source": [
    "Train LinearSVC Model"
   ]
  },
  {
   "cell_type": "code",
   "execution_count": null,
   "metadata": {},
   "outputs": [],
   "source": [
    "new_shape = x.shape[1]*x.shape[2]\n",
    "x = np.reshape(x, (3, new_shape))\n",
    "y = np.ravel(y)\n",
    "print(np.shape(x))\n",
    "model = LinearSVC()\n",
    "model.fit(x, y)\n",
    "score = model.score(x_train, y_train)\n",
    "print(score)"
   ]
  },
  {
   "cell_type": "markdown",
   "metadata": {},
   "source": [
    "Train with SGD Model"
   ]
  },
  {
   "cell_type": "code",
   "execution_count": null,
   "metadata": {},
   "outputs": [],
   "source": [
    "new_shape = x.shape[1]*x.shape[2]\n",
    "x = np.reshape(x, (3, new_shape))\n",
    "y = np.ravel(y)\n",
    "model = SGDClassifier(random_state=42)\n",
    "x_train = np.reshape(x_train, (2, new_shape))\n",
    "y_train = np.ravel(y_train)\n",
    "model.fit(x, y)\n",
    "x_test = np.reshape(x_test, (1, new_shape))\n",
    "y_test = np.ravel(y_test)\n",
    "score = model.score(x_train, y_train)\n",
    "print(score)"
   ]
  },
  {
   "cell_type": "code",
   "execution_count": 28,
   "metadata": {},
   "outputs": [],
   "source": [
    "outfile = os.path.join(os.getcwd(), \"models\", \"go_model.pickle\")\n",
    "with open(outfile, \"wb\") as fh:\n",
    "    pickle.dump(model, fh)"
   ]
  },
  {
   "cell_type": "code",
   "execution_count": 19,
   "metadata": {},
   "outputs": [
    {
     "name": "stdout",
     "output_type": "stream",
     "text": [
      "(40, 240)\n",
      "(40,)\n"
     ]
    }
   ],
   "source": [
    "X_train, X_test, y_train, y_test = train_test_split(x, y, test_size=0.2, random_state=42)\n",
    "\n",
    "def normalize(array):\n",
    "    min_val = array.min()\n",
    "    max_val = array.max()\n",
    "    normalized_array = (array - min_val) / (max_val - min_val)\n",
    "    return normalized_array\n",
    "\n",
    "x_train = np.array([normalize(x) for x in X_train])\n",
    "print(np.shape(x_train))\n",
    "print(np.shape(y_train))"
   ]
  },
  {
   "cell_type": "code",
   "execution_count": 21,
   "metadata": {},
   "outputs": [
    {
     "name": "stdout",
     "output_type": "stream",
     "text": [
      "Epoch 1/25\n",
      "\u001b[1m1/1\u001b[0m \u001b[32m━━━━━━━━━━━━━━━━━━━━\u001b[0m\u001b[37m\u001b[0m \u001b[1m2s\u001b[0m 2s/step - accuracy: 0.5312 - loss: 0.7227 - val_accuracy: 0.5000 - val_loss: 0.6843\n",
      "Epoch 2/25\n",
      "\u001b[1m1/1\u001b[0m \u001b[32m━━━━━━━━━━━━━━━━━━━━\u001b[0m\u001b[37m\u001b[0m \u001b[1m0s\u001b[0m 73ms/step - accuracy: 0.5625 - loss: 0.6679 - val_accuracy: 0.6250 - val_loss: 0.6583\n",
      "Epoch 3/25\n",
      "\u001b[1m1/1\u001b[0m \u001b[32m━━━━━━━━━━━━━━━━━━━━\u001b[0m\u001b[37m\u001b[0m \u001b[1m0s\u001b[0m 72ms/step - accuracy: 0.8125 - loss: 0.6203 - val_accuracy: 0.8750 - val_loss: 0.6346\n",
      "Epoch 4/25\n",
      "\u001b[1m1/1\u001b[0m \u001b[32m━━━━━━━━━━━━━━━━━━━━\u001b[0m\u001b[37m\u001b[0m \u001b[1m0s\u001b[0m 71ms/step - accuracy: 0.7812 - loss: 0.5853 - val_accuracy: 0.7500 - val_loss: 0.6197\n",
      "Epoch 5/25\n",
      "\u001b[1m1/1\u001b[0m \u001b[32m━━━━━━━━━━━━━━━━━━━━\u001b[0m\u001b[37m\u001b[0m \u001b[1m0s\u001b[0m 71ms/step - accuracy: 0.8750 - loss: 0.5398 - val_accuracy: 0.5000 - val_loss: 0.6264\n",
      "Epoch 6/25\n",
      "\u001b[1m1/1\u001b[0m \u001b[32m━━━━━━━━━━━━━━━━━━━━\u001b[0m\u001b[37m\u001b[0m \u001b[1m0s\u001b[0m 72ms/step - accuracy: 0.8438 - loss: 0.4948 - val_accuracy: 0.5000 - val_loss: 0.6362\n",
      "Epoch 7/25\n",
      "\u001b[1m1/1\u001b[0m \u001b[32m━━━━━━━━━━━━━━━━━━━━\u001b[0m\u001b[37m\u001b[0m \u001b[1m0s\u001b[0m 69ms/step - accuracy: 0.8438 - loss: 0.4522 - val_accuracy: 0.5000 - val_loss: 0.6213\n",
      "Epoch 8/25\n",
      "\u001b[1m1/1\u001b[0m \u001b[32m━━━━━━━━━━━━━━━━━━━━\u001b[0m\u001b[37m\u001b[0m \u001b[1m0s\u001b[0m 68ms/step - accuracy: 0.8750 - loss: 0.4064 - val_accuracy: 0.6250 - val_loss: 0.5855\n",
      "Epoch 9/25\n",
      "\u001b[1m1/1\u001b[0m \u001b[32m━━━━━━━━━━━━━━━━━━━━\u001b[0m\u001b[37m\u001b[0m \u001b[1m0s\u001b[0m 69ms/step - accuracy: 0.8750 - loss: 0.3672 - val_accuracy: 0.7500 - val_loss: 0.5678\n",
      "Epoch 10/25\n",
      "\u001b[1m1/1\u001b[0m \u001b[32m━━━━━━━━━━━━━━━━━━━━\u001b[0m\u001b[37m\u001b[0m \u001b[1m0s\u001b[0m 73ms/step - accuracy: 0.8750 - loss: 0.3311 - val_accuracy: 0.6250 - val_loss: 0.5796\n",
      "Epoch 11/25\n",
      "\u001b[1m1/1\u001b[0m \u001b[32m━━━━━━━━━━━━━━━━━━━━\u001b[0m\u001b[37m\u001b[0m \u001b[1m0s\u001b[0m 71ms/step - accuracy: 0.9062 - loss: 0.2924 - val_accuracy: 0.6250 - val_loss: 0.6153\n",
      "Epoch 12/25\n",
      "\u001b[1m1/1\u001b[0m \u001b[32m━━━━━━━━━━━━━━━━━━━━\u001b[0m\u001b[37m\u001b[0m \u001b[1m0s\u001b[0m 67ms/step - accuracy: 0.9062 - loss: 0.2575 - val_accuracy: 0.6250 - val_loss: 0.6424\n",
      "Epoch 13/25\n",
      "\u001b[1m1/1\u001b[0m \u001b[32m━━━━━━━━━━━━━━━━━━━━\u001b[0m\u001b[37m\u001b[0m \u001b[1m0s\u001b[0m 68ms/step - accuracy: 0.9062 - loss: 0.2252 - val_accuracy: 0.6250 - val_loss: 0.6314\n",
      "Epoch 14/25\n",
      "\u001b[1m1/1\u001b[0m \u001b[32m━━━━━━━━━━━━━━━━━━━━\u001b[0m\u001b[37m\u001b[0m \u001b[1m0s\u001b[0m 71ms/step - accuracy: 0.9688 - loss: 0.1932 - val_accuracy: 0.6250 - val_loss: 0.6023\n",
      "Epoch 15/25\n",
      "\u001b[1m1/1\u001b[0m \u001b[32m━━━━━━━━━━━━━━━━━━━━\u001b[0m\u001b[37m\u001b[0m \u001b[1m0s\u001b[0m 77ms/step - accuracy: 0.9688 - loss: 0.1652 - val_accuracy: 0.6250 - val_loss: 0.6103\n",
      "Epoch 16/25\n",
      "\u001b[1m1/1\u001b[0m \u001b[32m━━━━━━━━━━━━━━━━━━━━\u001b[0m\u001b[37m\u001b[0m \u001b[1m0s\u001b[0m 71ms/step - accuracy: 1.0000 - loss: 0.1405 - val_accuracy: 0.6250 - val_loss: 0.6734\n",
      "Epoch 17/25\n",
      "\u001b[1m1/1\u001b[0m \u001b[32m━━━━━━━━━━━━━━━━━━━━\u001b[0m\u001b[37m\u001b[0m \u001b[1m0s\u001b[0m 70ms/step - accuracy: 1.0000 - loss: 0.1164 - val_accuracy: 0.6250 - val_loss: 0.7671\n",
      "Epoch 18/25\n",
      "\u001b[1m1/1\u001b[0m \u001b[32m━━━━━━━━━━━━━━━━━━━━\u001b[0m\u001b[37m\u001b[0m \u001b[1m0s\u001b[0m 62ms/step - accuracy: 1.0000 - loss: 0.0964 - val_accuracy: 0.6250 - val_loss: 0.8364\n",
      "Epoch 19/25\n",
      "\u001b[1m1/1\u001b[0m \u001b[32m━━━━━━━━━━━━━━━━━━━━\u001b[0m\u001b[37m\u001b[0m \u001b[1m0s\u001b[0m 85ms/step - accuracy: 1.0000 - loss: 0.0791 - val_accuracy: 0.6250 - val_loss: 0.8612\n",
      "Epoch 20/25\n",
      "\u001b[1m1/1\u001b[0m \u001b[32m━━━━━━━━━━━━━━━━━━━━\u001b[0m\u001b[37m\u001b[0m \u001b[1m0s\u001b[0m 82ms/step - accuracy: 1.0000 - loss: 0.0634 - val_accuracy: 0.6250 - val_loss: 0.8744\n",
      "Epoch 21/25\n",
      "\u001b[1m1/1\u001b[0m \u001b[32m━━━━━━━━━━━━━━━━━━━━\u001b[0m\u001b[37m\u001b[0m \u001b[1m0s\u001b[0m 73ms/step - accuracy: 1.0000 - loss: 0.0508 - val_accuracy: 0.6250 - val_loss: 0.9199\n",
      "Epoch 22/25\n",
      "\u001b[1m1/1\u001b[0m \u001b[32m━━━━━━━━━━━━━━━━━━━━\u001b[0m\u001b[37m\u001b[0m \u001b[1m0s\u001b[0m 76ms/step - accuracy: 1.0000 - loss: 0.0403 - val_accuracy: 0.6250 - val_loss: 1.0109\n",
      "Epoch 23/25\n",
      "\u001b[1m1/1\u001b[0m \u001b[32m━━━━━━━━━━━━━━━━━━━━\u001b[0m\u001b[37m\u001b[0m \u001b[1m0s\u001b[0m 75ms/step - accuracy: 1.0000 - loss: 0.0312 - val_accuracy: 0.6250 - val_loss: 1.1278\n",
      "Epoch 24/25\n",
      "\u001b[1m1/1\u001b[0m \u001b[32m━━━━━━━━━━━━━━━━━━━━\u001b[0m\u001b[37m\u001b[0m \u001b[1m0s\u001b[0m 72ms/step - accuracy: 1.0000 - loss: 0.0241 - val_accuracy: 0.6250 - val_loss: 1.2366\n",
      "Epoch 25/25\n",
      "\u001b[1m1/1\u001b[0m \u001b[32m━━━━━━━━━━━━━━━━━━━━\u001b[0m\u001b[37m\u001b[0m \u001b[1m0s\u001b[0m 72ms/step - accuracy: 1.0000 - loss: 0.0188 - val_accuracy: 0.6250 - val_loss: 1.3146\n"
     ]
    },
    {
     "data": {
      "text/plain": [
       "<keras.src.callbacks.history.History at 0x1f17de56350>"
      ]
     },
     "execution_count": 21,
     "metadata": {},
     "output_type": "execute_result"
    }
   ],
   "source": [
    "model = tf.keras.models.Sequential()\n",
    "model.add(tf.keras.layers.Input(shape=(240,), name=\"input_embedding\"))\n",
    "model.add(tf.keras.layers.Dense(12, activation=\"relu\"))\n",
    "model.add(tf.keras.layers.Dense(8, activation=\"relu\"))\n",
    "model.add(tf.keras.layers.Dense(1, activation=\"sigmoid\"))\n",
    "\n",
    "model.compile(optimizer=tf.keras.optimizers.Adam(learning_rate=0.01), loss=\"binary_crossentropy\", metrics=[\"accuracy\"])\n",
    "model.fit(x_train, y_train, epochs=25, validation_split=0.2)"
   ]
  },
  {
   "cell_type": "code",
   "execution_count": 24,
   "metadata": {},
   "outputs": [
    {
     "name": "stdout",
     "output_type": "stream",
     "text": [
      "['_MAX_REPR_ARRAY_COUNT', '__abstractmethods__', '__class__', '__class_getitem__', '__contains__', '__del__', '__delattr__', '__dict__', '__dir__', '__doc__', '__enter__', '__eq__', '__exit__', '__format__', '__ge__', '__getattribute__', '__getitem__', '__gt__', '__hash__', '__init__', '__init_subclass__', '__iter__', '__le__', '__len__', '__lt__', '__module__', '__ne__', '__new__', '__reduce__', '__reduce_ex__', '__repr__', '__reversed__', '__setattr__', '__sizeof__', '__slots__', '__str__', '__subclasshook__', '__weakref__', '_abc_impl', '_files', 'allow_pickle', 'close', 'f', 'fid', 'files', 'get', 'items', 'keys', 'max_header_size', 'pickle_kwargs', 'values', 'zip']\n"
     ]
    },
    {
     "data": {
      "text/plain": [
       "dict_keys(['w0', 'b0', 'w1', 'b1', 'w2', 'b2'])"
      ]
     },
     "execution_count": 24,
     "metadata": {},
     "output_type": "execute_result"
    }
   ],
   "source": [
    "weights_biases = {}\n",
    "for i, layer in enumerate(model.layers):\n",
    "    weights, biases = layer.get_weights()\n",
    "    weights_biases[f'w{i}'] = weights\n",
    "    weights_biases[f'b{i}'] = biases\n",
    "\n",
    "saved_path = os.path.join(os.getcwd(), \"models\", \"go_weights_biases.npz\")\n",
    "np.savez(saved_path, **weights_biases)\n",
    "data = np.load(saved_path)\n",
    "\n",
    "print(dir(data))\n",
    "data_dict = {k: v for k, v in data.items()}\n",
    "data_dict.keys()"
   ]
  },
  {
   "cell_type": "code",
   "execution_count": 25,
   "metadata": {},
   "outputs": [],
   "source": [
    "def load_weights_biases(path):\n",
    "    data = np.load(path)\n",
    "    data_dict = {k: v for k, v in data.items()}\n",
    "    return data_dict\n",
    "\n",
    "def predict_template(path, model_name=\"red_model\"):\n",
    "    data = load_weights_biases(path)\n",
    "    template = \\\n",
    "f\"\"\"import ulab.numpy as np\n",
    "\n",
    "def relu(t):\n",
    "    return np.maximum(0, t)\n",
    "\n",
    "def sigmoid(t):\n",
    "    return 1 / (1 + np.exp(-t))\n",
    "\n",
    "def score(t):\n",
    "    z0 = np.dot(t, np.array({data[\"w0\"].tolist()})) + np.array({data[\"b0\"].tolist()})\n",
    "    a0 = relu(z0)\n",
    "    z1 = np.dot(a0, np.array({data[\"w1\"].tolist()})) + np.array({data[\"b1\"].tolist()})\n",
    "    a1 = relu(z1)\n",
    "    z2 = np.dot(a1, np.array({data[\"w2\"].tolist()})) + np.array({data[\"b2\"].tolist()})\n",
    "    res = sigmoid(z2)\n",
    "    return res \n",
    "\"\"\"\n",
    "    outfile = os.path.join(os.getcwd(), \"models\", \"{}.py\".format(model_name))\n",
    "    with open(outfile, \"w\") as fh:\n",
    "        fh.write(template)\n",
    "    return outfile"
   ]
  },
  {
   "cell_type": "code",
   "execution_count": 26,
   "metadata": {},
   "outputs": [
    {
     "name": "stdout",
     "output_type": "stream",
     "text": [
      "c:\\py_repos\\audio_recognition\\models\\go_model.py\n"
     ]
    }
   ],
   "source": [
    "data_path = os.path.join(os.getcwd(), \"models\", \"go_weights_biases.npz\")\n",
    "py_path = predict_template(data_path, model_name=\"go_model\")\n",
    "print(py_path)"
   ]
  }
 ],
 "metadata": {
  "kernelspec": {
   "display_name": "venv",
   "language": "python",
   "name": "python3"
  },
  "language_info": {
   "codemirror_mode": {
    "name": "ipython",
    "version": 3
   },
   "file_extension": ".py",
   "mimetype": "text/x-python",
   "name": "python",
   "nbconvert_exporter": "python",
   "pygments_lexer": "ipython3",
   "version": "3.10.7"
  }
 },
 "nbformat": 4,
 "nbformat_minor": 2
}
