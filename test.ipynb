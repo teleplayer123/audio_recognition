{
 "cells": [
  {
   "cell_type": "code",
   "execution_count": 6,
   "metadata": {},
   "outputs": [],
   "source": [
    "import os\n",
    "import numpy as np\n",
    "import tensorflow as tf\n",
    "import scipy.signal as sps\n",
    "from scipy.io import wavfile\n",
    "import matplotlib.pyplot as plt\n",
    "from sklearn.model_selection import train_test_split, cross_val_score\n",
    "\n",
    "def downsample_waveform(waveform, num_bins):\n",
    "    waveform = np.array(waveform)\n",
    "    original_length = len(waveform)\n",
    "    points_per_bin = original_length // num_bins\n",
    "    downsampled_waveform = np.zeros(num_bins)\n",
    "    for i in range(num_bins):\n",
    "        start_index = i * points_per_bin\n",
    "        end_index = start_index + points_per_bin\n",
    "        downsampled_waveform[i] = waveform[start_index:end_index].mean()\n",
    "    return downsampled_waveform.tolist()\n",
    "\n",
    "def add_white_noise(audio):\n",
    "    #generate noise and the scalar multiplier\n",
    "    noise = tf.random.uniform(shape=tf.shape(audio), minval=-1, maxval=1)\n",
    "    noise_scalar = tf.random.uniform(shape=[1], minval=0, maxval=0.2)\n",
    "    # add them to the original audio\n",
    "    audio_with_noise = audio + (noise * noise_scalar)\n",
    "    # final clip the values to ensure they are still between -1 and 1\n",
    "    audio_with_noise = tf.clip_by_value(audio_with_noise, clip_value_min=-1, clip_value_max=1)\n",
    "    return audio_with_noise\n",
    "\n",
    "def extract_features(audio_file_path, window_size=1024, num_bins=16, target_sample_rate=8192):\n",
    "    sample_rate, audio_data = wavfile.read(audio_file_path)\n",
    "    resampled_audio = sps.resample(audio_data, target_sample_rate)\n",
    "    augmented_audio = add_white_noise(resampled_audio)\n",
    "    step_size = window_size\n",
    "    num_windows = len(augmented_audio) // step_size\n",
    "    fft_results = []\n",
    "    for i in range(num_windows):\n",
    "        start_index = i * step_size\n",
    "        end_index = start_index + window_size\n",
    "        windowed_signal = augmented_audio[start_index:end_index]\n",
    "        fft_result = np.fft.fft(windowed_signal)\n",
    "        # fft_result = fft_result[0:int(fft_result.shape[0] // 2)]\n",
    "        fft_magnitude = np.abs(fft_result)\n",
    "        fft_magnitude[0] = 0\n",
    "        fft_magnitude = downsample_waveform(fft_magnitude, num_bins)\n",
    "        fft_results.extend(fft_magnitude)\n",
    "    return np.array(fft_results)"
   ]
  },
  {
   "cell_type": "code",
   "execution_count": 7,
   "metadata": {},
   "outputs": [
    {
     "name": "stdout",
     "output_type": "stream",
     "text": [
      "(30, 128)\n",
      "(30,)\n"
     ]
    }
   ],
   "source": [
    "data_dir = os.path.join(os.getcwd(), \"rgb_wavs\", \"rgb\")\n",
    "\n",
    "def load_dataset(data_dir):\n",
    "    waveforms = []\n",
    "    labels = []\n",
    "    for dirname in os.listdir(data_dir):\n",
    "        label_dir = os.path.join(data_dir, dirname)\n",
    "        if not dirname in labels:\n",
    "            labels.append(dirname)\n",
    "        wav_files = [os.path.join(label_dir, fname) for fname in os.listdir(label_dir)]\n",
    "        feature_arr = []\n",
    "        for wav_file in wav_files:\n",
    "            xfeatures = extract_features(wav_file)\n",
    "            feature_arr.append(xfeatures)\n",
    "        waveforms.append(np.array(feature_arr))\n",
    "        del feature_arr\n",
    "    return np.array(waveforms), np.array(labels)\n",
    "\n",
    "def load_data(data_dir, color=\"red\"):\n",
    "    labels = []\n",
    "    feature_arr = []\n",
    "    red = 0\n",
    "    green = 0\n",
    "    blue = 0\n",
    "    red_dir = os.path.join(data_dir, \"red\")\n",
    "    green_dir = os.path.join(data_dir, \"green\")\n",
    "    blue_dir = os.path.join(data_dir, \"blue\")\n",
    "    if color == \"red\":\n",
    "        red = 1\n",
    "    elif color == \"green\":\n",
    "        green = 1\n",
    "    elif color == \"blue\":\n",
    "        blue = 1\n",
    "    red_files = [os.path.join(red_dir, fname) for fname in os.listdir(red_dir)[:10]]\n",
    "    for wav_file in red_files:\n",
    "        xfeatures = extract_features(wav_file)\n",
    "        feature_arr.append(xfeatures)\n",
    "        labels.append(red)\n",
    "    green_files = [os.path.join(green_dir, fname) for fname in os.listdir(green_dir)[:10]]\n",
    "    for wav_file in green_files:\n",
    "        xfeatures = extract_features(wav_file)\n",
    "        feature_arr.append(xfeatures)\n",
    "        labels.append(green)\n",
    "    blue_files = [os.path.join(blue_dir, fname) for fname in os.listdir(blue_dir)[:10]]\n",
    "    for wav_file in blue_files:\n",
    "        xfeatures = extract_features(wav_file)\n",
    "        feature_arr.append(xfeatures)\n",
    "        labels.append(blue)\n",
    "    return np.array(feature_arr), np.array(labels)\n",
    "\n",
    "\n",
    "red_audio_data, red_labels = load_data(data_dir, color=\"red\")\n",
    "green_audio_data, green_labels = load_data(data_dir, color=\"green\")\n",
    "blue_audio_data, blue_labels = load_data(data_dir, color=\"blue\")\n",
    "\n",
    "print(np.shape(red_audio_data))\n",
    "print(np.shape(red_labels))"
   ]
  },
  {
   "cell_type": "code",
   "execution_count": 20,
   "metadata": {},
   "outputs": [
    {
     "name": "stdout",
     "output_type": "stream",
     "text": [
      "(24, 128)\n",
      "(24,)\n"
     ]
    }
   ],
   "source": [
    "X_train, X_test, y_train, y_test = train_test_split(red_audio_data, red_labels, test_size=0.2, random_state=42)\n",
    "\n",
    "def normalize(array):\n",
    "    min_val = array.min()\n",
    "    max_val = array.max()\n",
    "    normalized_array = (array - min_val) / (max_val - min_val)\n",
    "    return normalized_array\n",
    "\n",
    "X_norm_train = np.array([normalize(x) for x in X_train])\n",
    "print(np.shape(X_norm_train))\n",
    "print(np.shape(y_train))"
   ]
  },
  {
   "cell_type": "code",
   "execution_count": 21,
   "metadata": {},
   "outputs": [
    {
     "name": "stdout",
     "output_type": "stream",
     "text": [
      "Epoch 1/40\n",
      "\u001b[1m1/1\u001b[0m \u001b[32m━━━━━━━━━━━━━━━━━━━━\u001b[0m\u001b[37m\u001b[0m \u001b[1m1s\u001b[0m 1s/step - accuracy: 0.6842 - loss: 0.6318 - val_accuracy: 0.6000 - val_loss: 0.6802\n",
      "Epoch 2/40\n",
      "\u001b[1m1/1\u001b[0m \u001b[32m━━━━━━━━━━━━━━━━━━━━\u001b[0m\u001b[37m\u001b[0m \u001b[1m0s\u001b[0m 80ms/step - accuracy: 0.6842 - loss: 0.6201 - val_accuracy: 0.6000 - val_loss: 0.6730\n",
      "Epoch 3/40\n",
      "\u001b[1m1/1\u001b[0m \u001b[32m━━━━━━━━━━━━━━━━━━━━\u001b[0m\u001b[37m\u001b[0m \u001b[1m0s\u001b[0m 78ms/step - accuracy: 0.6842 - loss: 0.6084 - val_accuracy: 0.6000 - val_loss: 0.6670\n",
      "Epoch 4/40\n",
      "\u001b[1m1/1\u001b[0m \u001b[32m━━━━━━━━━━━━━━━━━━━━\u001b[0m\u001b[37m\u001b[0m \u001b[1m0s\u001b[0m 83ms/step - accuracy: 0.6842 - loss: 0.5961 - val_accuracy: 0.6000 - val_loss: 0.6677\n",
      "Epoch 5/40\n",
      "\u001b[1m1/1\u001b[0m \u001b[32m━━━━━━━━━━━━━━━━━━━━\u001b[0m\u001b[37m\u001b[0m \u001b[1m0s\u001b[0m 130ms/step - accuracy: 0.6842 - loss: 0.5831 - val_accuracy: 0.6000 - val_loss: 0.6710\n",
      "Epoch 6/40\n",
      "\u001b[1m1/1\u001b[0m \u001b[32m━━━━━━━━━━━━━━━━━━━━\u001b[0m\u001b[37m\u001b[0m \u001b[1m0s\u001b[0m 79ms/step - accuracy: 0.6842 - loss: 0.5686 - val_accuracy: 0.6000 - val_loss: 0.6667\n",
      "Epoch 7/40\n",
      "\u001b[1m1/1\u001b[0m \u001b[32m━━━━━━━━━━━━━━━━━━━━\u001b[0m\u001b[37m\u001b[0m \u001b[1m0s\u001b[0m 88ms/step - accuracy: 0.6842 - loss: 0.5551 - val_accuracy: 0.6000 - val_loss: 0.6592\n",
      "Epoch 8/40\n",
      "\u001b[1m1/1\u001b[0m \u001b[32m━━━━━━━━━━━━━━━━━━━━\u001b[0m\u001b[37m\u001b[0m \u001b[1m0s\u001b[0m 77ms/step - accuracy: 0.6842 - loss: 0.5396 - val_accuracy: 0.6000 - val_loss: 0.6491\n",
      "Epoch 9/40\n",
      "\u001b[1m1/1\u001b[0m \u001b[32m━━━━━━━━━━━━━━━━━━━━\u001b[0m\u001b[37m\u001b[0m \u001b[1m0s\u001b[0m 79ms/step - accuracy: 0.6842 - loss: 0.5252 - val_accuracy: 0.6000 - val_loss: 0.6422\n",
      "Epoch 10/40\n",
      "\u001b[1m1/1\u001b[0m \u001b[32m━━━━━━━━━━━━━━━━━━━━\u001b[0m\u001b[37m\u001b[0m \u001b[1m0s\u001b[0m 78ms/step - accuracy: 0.6842 - loss: 0.5103 - val_accuracy: 0.6000 - val_loss: 0.6268\n",
      "Epoch 11/40\n",
      "\u001b[1m1/1\u001b[0m \u001b[32m━━━━━━━━━━━━━━━━━━━━\u001b[0m\u001b[37m\u001b[0m \u001b[1m0s\u001b[0m 86ms/step - accuracy: 0.6842 - loss: 0.4953 - val_accuracy: 0.6000 - val_loss: 0.6115\n",
      "Epoch 12/40\n",
      "\u001b[1m1/1\u001b[0m \u001b[32m━━━━━━━━━━━━━━━━━━━━\u001b[0m\u001b[37m\u001b[0m \u001b[1m0s\u001b[0m 87ms/step - accuracy: 0.7368 - loss: 0.4802 - val_accuracy: 0.6000 - val_loss: 0.6084\n",
      "Epoch 13/40\n",
      "\u001b[1m1/1\u001b[0m \u001b[32m━━━━━━━━━━━━━━━━━━━━\u001b[0m\u001b[37m\u001b[0m \u001b[1m0s\u001b[0m 75ms/step - accuracy: 0.7368 - loss: 0.4650 - val_accuracy: 0.6000 - val_loss: 0.6092\n",
      "Epoch 14/40\n",
      "\u001b[1m1/1\u001b[0m \u001b[32m━━━━━━━━━━━━━━━━━━━━\u001b[0m\u001b[37m\u001b[0m \u001b[1m0s\u001b[0m 73ms/step - accuracy: 0.7368 - loss: 0.4489 - val_accuracy: 0.6000 - val_loss: 0.6064\n",
      "Epoch 15/40\n",
      "\u001b[1m1/1\u001b[0m \u001b[32m━━━━━━━━━━━━━━━━━━━━\u001b[0m\u001b[37m\u001b[0m \u001b[1m0s\u001b[0m 76ms/step - accuracy: 0.7895 - loss: 0.4317 - val_accuracy: 0.6000 - val_loss: 0.5933\n",
      "Epoch 16/40\n",
      "\u001b[1m1/1\u001b[0m \u001b[32m━━━━━━━━━━━━━━━━━━━━\u001b[0m\u001b[37m\u001b[0m \u001b[1m0s\u001b[0m 74ms/step - accuracy: 0.8421 - loss: 0.4151 - val_accuracy: 0.6000 - val_loss: 0.5900\n",
      "Epoch 17/40\n",
      "\u001b[1m1/1\u001b[0m \u001b[32m━━━━━━━━━━━━━━━━━━━━\u001b[0m\u001b[37m\u001b[0m \u001b[1m0s\u001b[0m 75ms/step - accuracy: 0.8421 - loss: 0.3987 - val_accuracy: 0.6000 - val_loss: 0.5866\n",
      "Epoch 18/40\n",
      "\u001b[1m1/1\u001b[0m \u001b[32m━━━━━━━━━━━━━━━━━━━━\u001b[0m\u001b[37m\u001b[0m \u001b[1m0s\u001b[0m 86ms/step - accuracy: 0.8421 - loss: 0.3816 - val_accuracy: 0.6000 - val_loss: 0.5686\n",
      "Epoch 19/40\n",
      "\u001b[1m1/1\u001b[0m \u001b[32m━━━━━━━━━━━━━━━━━━━━\u001b[0m\u001b[37m\u001b[0m \u001b[1m0s\u001b[0m 76ms/step - accuracy: 0.8947 - loss: 0.3636 - val_accuracy: 0.6000 - val_loss: 0.5519\n",
      "Epoch 20/40\n",
      "\u001b[1m1/1\u001b[0m \u001b[32m━━━━━━━━━━━━━━━━━━━━\u001b[0m\u001b[37m\u001b[0m \u001b[1m0s\u001b[0m 75ms/step - accuracy: 0.8947 - loss: 0.3465 - val_accuracy: 0.6000 - val_loss: 0.5406\n",
      "Epoch 21/40\n",
      "\u001b[1m1/1\u001b[0m \u001b[32m━━━━━━━━━━━━━━━━━━━━\u001b[0m\u001b[37m\u001b[0m \u001b[1m0s\u001b[0m 75ms/step - accuracy: 0.8947 - loss: 0.3291 - val_accuracy: 0.6000 - val_loss: 0.5251\n",
      "Epoch 22/40\n",
      "\u001b[1m1/1\u001b[0m \u001b[32m━━━━━━━━━━━━━━━━━━━━\u001b[0m\u001b[37m\u001b[0m \u001b[1m0s\u001b[0m 75ms/step - accuracy: 0.8947 - loss: 0.3108 - val_accuracy: 0.6000 - val_loss: 0.4987\n",
      "Epoch 23/40\n",
      "\u001b[1m1/1\u001b[0m \u001b[32m━━━━━━━━━━━━━━━━━━━━\u001b[0m\u001b[37m\u001b[0m \u001b[1m0s\u001b[0m 73ms/step - accuracy: 0.8947 - loss: 0.2920 - val_accuracy: 0.6000 - val_loss: 0.4726\n",
      "Epoch 24/40\n",
      "\u001b[1m1/1\u001b[0m \u001b[32m━━━━━━━━━━━━━━━━━━━━\u001b[0m\u001b[37m\u001b[0m \u001b[1m0s\u001b[0m 78ms/step - accuracy: 0.8947 - loss: 0.2730 - val_accuracy: 0.8000 - val_loss: 0.4498\n",
      "Epoch 25/40\n",
      "\u001b[1m1/1\u001b[0m \u001b[32m━━━━━━━━━━━━━━━━━━━━\u001b[0m\u001b[37m\u001b[0m \u001b[1m0s\u001b[0m 75ms/step - accuracy: 0.9474 - loss: 0.2535 - val_accuracy: 0.8000 - val_loss: 0.4263\n",
      "Epoch 26/40\n",
      "\u001b[1m1/1\u001b[0m \u001b[32m━━━━━━━━━━━━━━━━━━━━\u001b[0m\u001b[37m\u001b[0m \u001b[1m0s\u001b[0m 77ms/step - accuracy: 0.9474 - loss: 0.2337 - val_accuracy: 0.8000 - val_loss: 0.3903\n",
      "Epoch 27/40\n",
      "\u001b[1m1/1\u001b[0m \u001b[32m━━━━━━━━━━━━━━━━━━━━\u001b[0m\u001b[37m\u001b[0m \u001b[1m0s\u001b[0m 77ms/step - accuracy: 0.9474 - loss: 0.2140 - val_accuracy: 0.8000 - val_loss: 0.3675\n",
      "Epoch 28/40\n",
      "\u001b[1m1/1\u001b[0m \u001b[32m━━━━━━━━━━━━━━━━━━━━\u001b[0m\u001b[37m\u001b[0m \u001b[1m0s\u001b[0m 85ms/step - accuracy: 1.0000 - loss: 0.1949 - val_accuracy: 0.8000 - val_loss: 0.3689\n",
      "Epoch 29/40\n",
      "\u001b[1m1/1\u001b[0m \u001b[32m━━━━━━━━━━━━━━━━━━━━\u001b[0m\u001b[37m\u001b[0m \u001b[1m0s\u001b[0m 77ms/step - accuracy: 1.0000 - loss: 0.1802 - val_accuracy: 0.8000 - val_loss: 0.3335\n",
      "Epoch 30/40\n",
      "\u001b[1m1/1\u001b[0m \u001b[32m━━━━━━━━━━━━━━━━━━━━\u001b[0m\u001b[37m\u001b[0m \u001b[1m0s\u001b[0m 79ms/step - accuracy: 1.0000 - loss: 0.1623 - val_accuracy: 0.8000 - val_loss: 0.3110\n",
      "Epoch 31/40\n",
      "\u001b[1m1/1\u001b[0m \u001b[32m━━━━━━━━━━━━━━━━━━━━\u001b[0m\u001b[37m\u001b[0m \u001b[1m0s\u001b[0m 72ms/step - accuracy: 1.0000 - loss: 0.1478 - val_accuracy: 0.8000 - val_loss: 0.3072\n",
      "Epoch 32/40\n",
      "\u001b[1m1/1\u001b[0m \u001b[32m━━━━━━━━━━━━━━━━━━━━\u001b[0m\u001b[37m\u001b[0m \u001b[1m0s\u001b[0m 70ms/step - accuracy: 1.0000 - loss: 0.1317 - val_accuracy: 0.8000 - val_loss: 0.2911\n",
      "Epoch 33/40\n",
      "\u001b[1m1/1\u001b[0m \u001b[32m━━━━━━━━━━━━━━━━━━━━\u001b[0m\u001b[37m\u001b[0m \u001b[1m0s\u001b[0m 75ms/step - accuracy: 1.0000 - loss: 0.1178 - val_accuracy: 0.8000 - val_loss: 0.2757\n",
      "Epoch 34/40\n",
      "\u001b[1m1/1\u001b[0m \u001b[32m━━━━━━━━━━━━━━━━━━━━\u001b[0m\u001b[37m\u001b[0m \u001b[1m0s\u001b[0m 71ms/step - accuracy: 1.0000 - loss: 0.1052 - val_accuracy: 0.8000 - val_loss: 0.2668\n",
      "Epoch 35/40\n",
      "\u001b[1m1/1\u001b[0m \u001b[32m━━━━━━━━━━━━━━━━━━━━\u001b[0m\u001b[37m\u001b[0m \u001b[1m0s\u001b[0m 74ms/step - accuracy: 1.0000 - loss: 0.0921 - val_accuracy: 0.8000 - val_loss: 0.2661\n",
      "Epoch 36/40\n",
      "\u001b[1m1/1\u001b[0m \u001b[32m━━━━━━━━━━━━━━━━━━━━\u001b[0m\u001b[37m\u001b[0m \u001b[1m0s\u001b[0m 70ms/step - accuracy: 1.0000 - loss: 0.0796 - val_accuracy: 0.8000 - val_loss: 0.2552\n",
      "Epoch 37/40\n",
      "\u001b[1m1/1\u001b[0m \u001b[32m━━━━━━━━━━━━━━━━━━━━\u001b[0m\u001b[37m\u001b[0m \u001b[1m0s\u001b[0m 70ms/step - accuracy: 1.0000 - loss: 0.0677 - val_accuracy: 1.0000 - val_loss: 0.2392\n",
      "Epoch 38/40\n",
      "\u001b[1m1/1\u001b[0m \u001b[32m━━━━━━━━━━━━━━━━━━━━\u001b[0m\u001b[37m\u001b[0m \u001b[1m0s\u001b[0m 82ms/step - accuracy: 1.0000 - loss: 0.0586 - val_accuracy: 0.8000 - val_loss: 0.2386\n",
      "Epoch 39/40\n",
      "\u001b[1m1/1\u001b[0m \u001b[32m━━━━━━━━━━━━━━━━━━━━\u001b[0m\u001b[37m\u001b[0m \u001b[1m0s\u001b[0m 79ms/step - accuracy: 1.0000 - loss: 0.0496 - val_accuracy: 0.8000 - val_loss: 0.2409\n",
      "Epoch 40/40\n",
      "\u001b[1m1/1\u001b[0m \u001b[32m━━━━━━━━━━━━━━━━━━━━\u001b[0m\u001b[37m\u001b[0m \u001b[1m0s\u001b[0m 69ms/step - accuracy: 1.0000 - loss: 0.0429 - val_accuracy: 0.8000 - val_loss: 0.2306\n"
     ]
    },
    {
     "data": {
      "text/plain": [
       "<keras.src.callbacks.history.History at 0x2a6299ad810>"
      ]
     },
     "execution_count": 21,
     "metadata": {},
     "output_type": "execute_result"
    }
   ],
   "source": [
    "model = tf.keras.models.Sequential()\n",
    "model.add(tf.keras.layers.Input(shape=(128,), name=\"input_embedding\"))\n",
    "model.add(tf.keras.layers.Dense(12, activation=\"relu\"))\n",
    "model.add(tf.keras.layers.Dense(8, activation=\"relu\"))\n",
    "model.add(tf.keras.layers.Dense(1, activation=\"sigmoid\"))\n",
    "\n",
    "model.compile(optimizer=tf.keras.optimizers.Adam(learning_rate=0.01), loss=\"binary_crossentropy\", metrics=[\"accuracy\"])\n",
    "model.fit(X_norm_train, y_train, epochs=40, batch_size=32, validation_split=0.2)\n"
   ]
  },
  {
   "cell_type": "code",
   "execution_count": 23,
   "metadata": {},
   "outputs": [
    {
     "name": "stdout",
     "output_type": "stream",
     "text": [
      "['_MAX_REPR_ARRAY_COUNT', '__abstractmethods__', '__class__', '__class_getitem__', '__contains__', '__del__', '__delattr__', '__dict__', '__dir__', '__doc__', '__enter__', '__eq__', '__exit__', '__format__', '__ge__', '__getattribute__', '__getitem__', '__gt__', '__hash__', '__init__', '__init_subclass__', '__iter__', '__le__', '__len__', '__lt__', '__module__', '__ne__', '__new__', '__reduce__', '__reduce_ex__', '__repr__', '__reversed__', '__setattr__', '__sizeof__', '__slots__', '__str__', '__subclasshook__', '__weakref__', '_abc_impl', '_files', 'allow_pickle', 'close', 'f', 'fid', 'files', 'get', 'items', 'keys', 'max_header_size', 'pickle_kwargs', 'values', 'zip']\n"
     ]
    },
    {
     "data": {
      "text/plain": [
       "dict_keys(['w0', 'b0', 'w1', 'b1', 'w2', 'b2'])"
      ]
     },
     "execution_count": 23,
     "metadata": {},
     "output_type": "execute_result"
    }
   ],
   "source": [
    "weights_biases = {}\n",
    "for i, layer in enumerate(model.layers):\n",
    "    weights, biases = layer.get_weights()\n",
    "    weights_biases[f'w{i}'] = weights\n",
    "    weights_biases[f'b{i}'] = biases\n",
    "\n",
    "saved_path = os.path.join(os.getcwd(), \"models\", \"red_weights_biases.npz\")\n",
    "np.savez(saved_path, **weights_biases)\n",
    "data = np.load(saved_path)\n",
    "\n",
    "print(dir(data))\n",
    "data_dict = {k: v for k, v in data.items()}\n",
    "data_dict.keys()"
   ]
  },
  {
   "cell_type": "code",
   "execution_count": 18,
   "metadata": {},
   "outputs": [],
   "source": [
    "def load_weights_biases(path):\n",
    "    data = np.load(path)\n",
    "    data_dict = {k: v for k, v in data.items()}\n",
    "    return data_dict\n",
    "\n",
    "def predict_template(path, model_name=\"red_model\"):\n",
    "    data = load_weights_biases(path)\n",
    "    template = \\\n",
    "f\"\"\"import ulab.numpy as np\n",
    "\n",
    "def relu(t):\n",
    "    return np.maximum(0, t)\n",
    "\n",
    "def sigmoid(t):\n",
    "    return 1 / (1 + np.exp(-t))\n",
    "\n",
    "def score(t):\n",
    "    z0 = np.dot(t, np.array({data[\"w0\"].tolist()})) + np.array({data[\"b0\"].tolist()})\n",
    "    a0 = relu(z0)\n",
    "    z1 = np.dot(a0, np.array({data[\"w1\"].tolist()})) + np.array({data[\"b1\"].tolist()})\n",
    "    a1 = relu(z1)\n",
    "    z2 = np.dot(a1, np.array({data[\"w2\"].tolist()})) + np.array({data[\"b2\"].tolist()})\n",
    "    res = sigmoid(z2)\n",
    "    return res \n",
    "\"\"\"\n",
    "    outfile = os.path.join(os.getcwd(), \"models\", \"models128_lib\", \"{}.py\".format(model_name))\n",
    "    with open(outfile, \"w\") as fh:\n",
    "        fh.write(template)\n",
    "    return outfile\n",
    "    "
   ]
  },
  {
   "cell_type": "code",
   "execution_count": 24,
   "metadata": {},
   "outputs": [
    {
     "name": "stdout",
     "output_type": "stream",
     "text": [
      "c:\\py_repos\\audio_recognition\\models\\models128_lib\\red_model.py\n"
     ]
    }
   ],
   "source": [
    "data_path = os.path.join(os.getcwd(), \"models\", \"red_weights_biases.npz\")\n",
    "py_path = predict_template(data_path, model_name=\"red_model\")\n",
    "print(py_path)"
   ]
  }
 ],
 "metadata": {
  "kernelspec": {
   "display_name": "Python 3",
   "language": "python",
   "name": "python3"
  },
  "language_info": {
   "codemirror_mode": {
    "name": "ipython",
    "version": 3
   },
   "file_extension": ".py",
   "mimetype": "text/x-python",
   "name": "python",
   "nbconvert_exporter": "python",
   "pygments_lexer": "ipython3",
   "version": "3.10.6"
  }
 },
 "nbformat": 4,
 "nbformat_minor": 2
}
