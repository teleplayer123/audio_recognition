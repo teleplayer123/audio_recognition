{
 "cells": [
  {
   "cell_type": "code",
   "execution_count": 1,
   "metadata": {},
   "outputs": [],
   "source": [
    "import os\n",
    "import numpy as np\n",
    "import tensorflow as tf\n",
    "import tensorflow_hub as hub\n",
    "import tensorflow_io as tfio\n",
    "import scipy.signal as sps\n",
    "from scipy.io import wavfile\n",
    "import matplotlib.pyplot as plt\n",
    "import pandas as pd\n"
   ]
  },
  {
   "cell_type": "code",
   "execution_count": 2,
   "metadata": {},
   "outputs": [],
   "source": [
    "# yamnet_model_handle = 'https://tfhub.dev/google/yamnet/1'\n",
    "# yamnet_model = hub.load(yamnet_model_handle)\n",
    "# save_dir = os.path.join(os.getcwd(), \"models\", \"yamnet_model\")\n",
    "# if not os.path.exists(save_dir):\n",
    "#     os.mkdir(save_dir)\n",
    "# tf.keras.models.save_model(yamnet_model, save_dir)"
   ]
  },
  {
   "cell_type": "code",
   "execution_count": 3,
   "metadata": {},
   "outputs": [],
   "source": [
    "model_dir = os.path.join(os.getcwd(), \"models\", \"yamnet\")\n",
    "model = tf.saved_model.load(model_dir)"
   ]
  },
  {
   "cell_type": "code",
   "execution_count": 4,
   "metadata": {},
   "outputs": [
    {
     "data": {
      "text/plain": [
       "['Speech',\n",
       " 'Child speech, kid speaking',\n",
       " 'Conversation',\n",
       " 'Narration, monologue',\n",
       " 'Babbling',\n",
       " 'Speech synthesizer',\n",
       " 'Shout',\n",
       " 'Bellow',\n",
       " 'Whoop',\n",
       " 'Yell',\n",
       " 'Children shouting',\n",
       " 'Screaming',\n",
       " 'Whispering',\n",
       " 'Laughter',\n",
       " 'Baby laughter',\n",
       " 'Giggle',\n",
       " 'Snicker',\n",
       " 'Belly laugh',\n",
       " 'Chuckle, chortle',\n",
       " 'Crying, sobbing',\n",
       " 'Baby cry, infant cry',\n",
       " 'Whimper',\n",
       " 'Wail, moan',\n",
       " 'Sigh',\n",
       " 'Singing',\n",
       " 'Choir',\n",
       " 'Yodeling',\n",
       " 'Chant',\n",
       " 'Mantra',\n",
       " 'Child singing',\n",
       " 'Synthetic singing',\n",
       " 'Rapping',\n",
       " 'Humming',\n",
       " 'Groan',\n",
       " 'Grunt',\n",
       " 'Whistling',\n",
       " 'Breathing',\n",
       " 'Wheeze',\n",
       " 'Snoring',\n",
       " 'Gasp',\n",
       " 'Pant',\n",
       " 'Snort',\n",
       " 'Cough',\n",
       " 'Throat clearing',\n",
       " 'Sneeze',\n",
       " 'Sniff',\n",
       " 'Run',\n",
       " 'Shuffle',\n",
       " 'Walk, footsteps',\n",
       " 'Chewing, mastication',\n",
       " 'Biting',\n",
       " 'Gargling',\n",
       " 'Stomach rumble',\n",
       " 'Burping, eructation',\n",
       " 'Hiccup',\n",
       " 'Fart',\n",
       " 'Hands',\n",
       " 'Finger snapping',\n",
       " 'Clapping',\n",
       " 'Heart sounds, heartbeat',\n",
       " 'Heart murmur',\n",
       " 'Cheering',\n",
       " 'Applause',\n",
       " 'Chatter',\n",
       " 'Crowd',\n",
       " 'Hubbub, speech noise, speech babble',\n",
       " 'Children playing',\n",
       " 'Animal',\n",
       " 'Domestic animals, pets',\n",
       " 'Dog',\n",
       " 'Bark',\n",
       " 'Yip',\n",
       " 'Howl',\n",
       " 'Bow-wow',\n",
       " 'Growling',\n",
       " 'Whimper (dog)',\n",
       " 'Cat',\n",
       " 'Purr',\n",
       " 'Meow',\n",
       " 'Hiss',\n",
       " 'Caterwaul',\n",
       " 'Livestock, farm animals, working animals',\n",
       " 'Horse',\n",
       " 'Clip-clop',\n",
       " 'Neigh, whinny',\n",
       " 'Cattle, bovinae',\n",
       " 'Moo',\n",
       " 'Cowbell',\n",
       " 'Pig',\n",
       " 'Oink',\n",
       " 'Goat',\n",
       " 'Bleat',\n",
       " 'Sheep',\n",
       " 'Fowl',\n",
       " 'Chicken, rooster',\n",
       " 'Cluck',\n",
       " 'Crowing, cock-a-doodle-doo',\n",
       " 'Turkey',\n",
       " 'Gobble',\n",
       " 'Duck',\n",
       " 'Quack',\n",
       " 'Goose',\n",
       " 'Honk',\n",
       " 'Wild animals',\n",
       " 'Roaring cats (lions, tigers)',\n",
       " 'Roar',\n",
       " 'Bird',\n",
       " 'Bird vocalization, bird call, bird song',\n",
       " 'Chirp, tweet',\n",
       " 'Squawk',\n",
       " 'Pigeon, dove',\n",
       " 'Coo',\n",
       " 'Crow',\n",
       " 'Caw',\n",
       " 'Owl',\n",
       " 'Hoot',\n",
       " 'Bird flight, flapping wings',\n",
       " 'Canidae, dogs, wolves',\n",
       " 'Rodents, rats, mice',\n",
       " 'Mouse',\n",
       " 'Patter',\n",
       " 'Insect',\n",
       " 'Cricket',\n",
       " 'Mosquito',\n",
       " 'Fly, housefly',\n",
       " 'Buzz',\n",
       " 'Bee, wasp, etc.',\n",
       " 'Frog',\n",
       " 'Croak',\n",
       " 'Snake',\n",
       " 'Rattle',\n",
       " 'Whale vocalization',\n",
       " 'Music',\n",
       " 'Musical instrument',\n",
       " 'Plucked string instrument',\n",
       " 'Guitar',\n",
       " 'Electric guitar',\n",
       " 'Bass guitar',\n",
       " 'Acoustic guitar',\n",
       " 'Steel guitar, slide guitar',\n",
       " 'Tapping (guitar technique)',\n",
       " 'Strum',\n",
       " 'Banjo',\n",
       " 'Sitar',\n",
       " 'Mandolin',\n",
       " 'Zither',\n",
       " 'Ukulele',\n",
       " 'Keyboard (musical)',\n",
       " 'Piano',\n",
       " 'Electric piano',\n",
       " 'Organ',\n",
       " 'Electronic organ',\n",
       " 'Hammond organ',\n",
       " 'Synthesizer',\n",
       " 'Sampler',\n",
       " 'Harpsichord',\n",
       " 'Percussion',\n",
       " 'Drum kit',\n",
       " 'Drum machine',\n",
       " 'Drum',\n",
       " 'Snare drum',\n",
       " 'Rimshot',\n",
       " 'Drum roll',\n",
       " 'Bass drum',\n",
       " 'Timpani',\n",
       " 'Tabla',\n",
       " 'Cymbal',\n",
       " 'Hi-hat',\n",
       " 'Wood block',\n",
       " 'Tambourine',\n",
       " 'Rattle (instrument)',\n",
       " 'Maraca',\n",
       " 'Gong',\n",
       " 'Tubular bells',\n",
       " 'Mallet percussion',\n",
       " 'Marimba, xylophone',\n",
       " 'Glockenspiel',\n",
       " 'Vibraphone',\n",
       " 'Steelpan',\n",
       " 'Orchestra',\n",
       " 'Brass instrument',\n",
       " 'French horn',\n",
       " 'Trumpet',\n",
       " 'Trombone',\n",
       " 'Bowed string instrument',\n",
       " 'String section',\n",
       " 'Violin, fiddle',\n",
       " 'Pizzicato',\n",
       " 'Cello',\n",
       " 'Double bass',\n",
       " 'Wind instrument, woodwind instrument',\n",
       " 'Flute',\n",
       " 'Saxophone',\n",
       " 'Clarinet',\n",
       " 'Harp',\n",
       " 'Bell',\n",
       " 'Church bell',\n",
       " 'Jingle bell',\n",
       " 'Bicycle bell',\n",
       " 'Tuning fork',\n",
       " 'Chime',\n",
       " 'Wind chime',\n",
       " 'Change ringing (campanology)',\n",
       " 'Harmonica',\n",
       " 'Accordion',\n",
       " 'Bagpipes',\n",
       " 'Didgeridoo',\n",
       " 'Shofar',\n",
       " 'Theremin',\n",
       " 'Singing bowl',\n",
       " 'Scratching (performance technique)',\n",
       " 'Pop music',\n",
       " 'Hip hop music',\n",
       " 'Beatboxing',\n",
       " 'Rock music',\n",
       " 'Heavy metal',\n",
       " 'Punk rock',\n",
       " 'Grunge',\n",
       " 'Progressive rock',\n",
       " 'Rock and roll',\n",
       " 'Psychedelic rock',\n",
       " 'Rhythm and blues',\n",
       " 'Soul music',\n",
       " 'Reggae',\n",
       " 'Country',\n",
       " 'Swing music',\n",
       " 'Bluegrass',\n",
       " 'Funk',\n",
       " 'Folk music',\n",
       " 'Middle Eastern music',\n",
       " 'Jazz',\n",
       " 'Disco',\n",
       " 'Classical music',\n",
       " 'Opera',\n",
       " 'Electronic music',\n",
       " 'House music',\n",
       " 'Techno',\n",
       " 'Dubstep',\n",
       " 'Drum and bass',\n",
       " 'Electronica',\n",
       " 'Electronic dance music',\n",
       " 'Ambient music',\n",
       " 'Trance music',\n",
       " 'Music of Latin America',\n",
       " 'Salsa music',\n",
       " 'Flamenco',\n",
       " 'Blues',\n",
       " 'Music for children',\n",
       " 'New-age music',\n",
       " 'Vocal music',\n",
       " 'A capella',\n",
       " 'Music of Africa',\n",
       " 'Afrobeat',\n",
       " 'Christian music',\n",
       " 'Gospel music',\n",
       " 'Music of Asia',\n",
       " 'Carnatic music',\n",
       " 'Music of Bollywood',\n",
       " 'Ska',\n",
       " 'Traditional music',\n",
       " 'Independent music',\n",
       " 'Song',\n",
       " 'Background music',\n",
       " 'Theme music',\n",
       " 'Jingle (music)',\n",
       " 'Soundtrack music',\n",
       " 'Lullaby',\n",
       " 'Video game music',\n",
       " 'Christmas music',\n",
       " 'Dance music',\n",
       " 'Wedding music',\n",
       " 'Happy music',\n",
       " 'Sad music',\n",
       " 'Tender music',\n",
       " 'Exciting music',\n",
       " 'Angry music',\n",
       " 'Scary music',\n",
       " 'Wind',\n",
       " 'Rustling leaves',\n",
       " 'Wind noise (microphone)',\n",
       " 'Thunderstorm',\n",
       " 'Thunder',\n",
       " 'Water',\n",
       " 'Rain',\n",
       " 'Raindrop',\n",
       " 'Rain on surface',\n",
       " 'Stream',\n",
       " 'Waterfall',\n",
       " 'Ocean',\n",
       " 'Waves, surf',\n",
       " 'Steam',\n",
       " 'Gurgling',\n",
       " 'Fire',\n",
       " 'Crackle',\n",
       " 'Vehicle',\n",
       " 'Boat, Water vehicle',\n",
       " 'Sailboat, sailing ship',\n",
       " 'Rowboat, canoe, kayak',\n",
       " 'Motorboat, speedboat',\n",
       " 'Ship',\n",
       " 'Motor vehicle (road)',\n",
       " 'Car',\n",
       " 'Vehicle horn, car horn, honking',\n",
       " 'Toot',\n",
       " 'Car alarm',\n",
       " 'Power windows, electric windows',\n",
       " 'Skidding',\n",
       " 'Tire squeal',\n",
       " 'Car passing by',\n",
       " 'Race car, auto racing',\n",
       " 'Truck',\n",
       " 'Air brake',\n",
       " 'Air horn, truck horn',\n",
       " 'Reversing beeps',\n",
       " 'Ice cream truck, ice cream van',\n",
       " 'Bus',\n",
       " 'Emergency vehicle',\n",
       " 'Police car (siren)',\n",
       " 'Ambulance (siren)',\n",
       " 'Fire engine, fire truck (siren)',\n",
       " 'Motorcycle',\n",
       " 'Traffic noise, roadway noise',\n",
       " 'Rail transport',\n",
       " 'Train',\n",
       " 'Train whistle',\n",
       " 'Train horn',\n",
       " 'Railroad car, train wagon',\n",
       " 'Train wheels squealing',\n",
       " 'Subway, metro, underground',\n",
       " 'Aircraft',\n",
       " 'Aircraft engine',\n",
       " 'Jet engine',\n",
       " 'Propeller, airscrew',\n",
       " 'Helicopter',\n",
       " 'Fixed-wing aircraft, airplane',\n",
       " 'Bicycle',\n",
       " 'Skateboard',\n",
       " 'Engine',\n",
       " 'Light engine (high frequency)',\n",
       " \"Dental drill, dentist's drill\",\n",
       " 'Lawn mower',\n",
       " 'Chainsaw',\n",
       " 'Medium engine (mid frequency)',\n",
       " 'Heavy engine (low frequency)',\n",
       " 'Engine knocking',\n",
       " 'Engine starting',\n",
       " 'Idling',\n",
       " 'Accelerating, revving, vroom',\n",
       " 'Door',\n",
       " 'Doorbell',\n",
       " 'Ding-dong',\n",
       " 'Sliding door',\n",
       " 'Slam',\n",
       " 'Knock',\n",
       " 'Tap',\n",
       " 'Squeak',\n",
       " 'Cupboard open or close',\n",
       " 'Drawer open or close',\n",
       " 'Dishes, pots, and pans',\n",
       " 'Cutlery, silverware',\n",
       " 'Chopping (food)',\n",
       " 'Frying (food)',\n",
       " 'Microwave oven',\n",
       " 'Blender',\n",
       " 'Water tap, faucet',\n",
       " 'Sink (filling or washing)',\n",
       " 'Bathtub (filling or washing)',\n",
       " 'Hair dryer',\n",
       " 'Toilet flush',\n",
       " 'Toothbrush',\n",
       " 'Electric toothbrush',\n",
       " 'Vacuum cleaner',\n",
       " 'Zipper (clothing)',\n",
       " 'Keys jangling',\n",
       " 'Coin (dropping)',\n",
       " 'Scissors',\n",
       " 'Electric shaver, electric razor',\n",
       " 'Shuffling cards',\n",
       " 'Typing',\n",
       " 'Typewriter',\n",
       " 'Computer keyboard',\n",
       " 'Writing',\n",
       " 'Alarm',\n",
       " 'Telephone',\n",
       " 'Telephone bell ringing',\n",
       " 'Ringtone',\n",
       " 'Telephone dialing, DTMF',\n",
       " 'Dial tone',\n",
       " 'Busy signal',\n",
       " 'Alarm clock',\n",
       " 'Siren',\n",
       " 'Civil defense siren',\n",
       " 'Buzzer',\n",
       " 'Smoke detector, smoke alarm',\n",
       " 'Fire alarm',\n",
       " 'Foghorn',\n",
       " 'Whistle',\n",
       " 'Steam whistle',\n",
       " 'Mechanisms',\n",
       " 'Ratchet, pawl',\n",
       " 'Clock',\n",
       " 'Tick',\n",
       " 'Tick-tock',\n",
       " 'Gears',\n",
       " 'Pulleys',\n",
       " 'Sewing machine',\n",
       " 'Mechanical fan',\n",
       " 'Air conditioning',\n",
       " 'Cash register',\n",
       " 'Printer',\n",
       " 'Camera',\n",
       " 'Single-lens reflex camera',\n",
       " 'Tools',\n",
       " 'Hammer',\n",
       " 'Jackhammer',\n",
       " 'Sawing',\n",
       " 'Filing (rasp)',\n",
       " 'Sanding',\n",
       " 'Power tool',\n",
       " 'Drill',\n",
       " 'Explosion',\n",
       " 'Gunshot, gunfire',\n",
       " 'Machine gun',\n",
       " 'Fusillade',\n",
       " 'Artillery fire',\n",
       " 'Cap gun',\n",
       " 'Fireworks',\n",
       " 'Firecracker',\n",
       " 'Burst, pop',\n",
       " 'Eruption',\n",
       " 'Boom',\n",
       " 'Wood',\n",
       " 'Chop',\n",
       " 'Splinter',\n",
       " 'Crack',\n",
       " 'Glass',\n",
       " 'Chink, clink',\n",
       " 'Shatter',\n",
       " 'Liquid',\n",
       " 'Splash, splatter',\n",
       " 'Slosh',\n",
       " 'Squish',\n",
       " 'Drip',\n",
       " 'Pour',\n",
       " 'Trickle, dribble',\n",
       " 'Gush',\n",
       " 'Fill (with liquid)',\n",
       " 'Spray',\n",
       " 'Pump (liquid)',\n",
       " 'Stir',\n",
       " 'Boiling',\n",
       " 'Sonar',\n",
       " 'Arrow',\n",
       " 'Whoosh, swoosh, swish',\n",
       " 'Thump, thud',\n",
       " 'Thunk',\n",
       " 'Electronic tuner',\n",
       " 'Effects unit',\n",
       " 'Chorus effect',\n",
       " 'Basketball bounce',\n",
       " 'Bang',\n",
       " 'Slap, smack',\n",
       " 'Whack, thwack',\n",
       " 'Smash, crash',\n",
       " 'Breaking',\n",
       " 'Bouncing',\n",
       " 'Whip',\n",
       " 'Flap',\n",
       " 'Scratch',\n",
       " 'Scrape',\n",
       " 'Rub',\n",
       " 'Roll',\n",
       " 'Crushing',\n",
       " 'Crumpling, crinkling',\n",
       " 'Tearing',\n",
       " 'Beep, bleep',\n",
       " 'Ping',\n",
       " 'Ding',\n",
       " 'Clang',\n",
       " 'Squeal',\n",
       " 'Creak',\n",
       " 'Rustle',\n",
       " 'Whir',\n",
       " 'Clatter',\n",
       " 'Sizzle',\n",
       " 'Clicking',\n",
       " 'Clickety-clack',\n",
       " 'Rumble',\n",
       " 'Plop',\n",
       " 'Jingle, tinkle',\n",
       " 'Hum',\n",
       " 'Zing',\n",
       " 'Boing',\n",
       " 'Crunch',\n",
       " 'Silence',\n",
       " 'Sine wave',\n",
       " 'Harmonic',\n",
       " 'Chirp tone',\n",
       " 'Sound effect',\n",
       " 'Pulse',\n",
       " 'Inside, small room',\n",
       " 'Inside, large room or hall',\n",
       " 'Inside, public space',\n",
       " 'Outside, urban or manmade',\n",
       " 'Outside, rural or natural',\n",
       " 'Reverberation',\n",
       " 'Echo',\n",
       " 'Noise',\n",
       " 'Environmental noise',\n",
       " 'Static',\n",
       " 'Mains hum',\n",
       " 'Distortion',\n",
       " 'Sidetone',\n",
       " 'Cacophony',\n",
       " 'White noise',\n",
       " 'Pink noise',\n",
       " 'Throbbing',\n",
       " 'Vibration',\n",
       " 'Television',\n",
       " 'Radio',\n",
       " 'Field recording']"
      ]
     },
     "execution_count": 4,
     "metadata": {},
     "output_type": "execute_result"
    }
   ],
   "source": [
    "class_path = model.class_map_path().numpy().decode()\n",
    "class_names = list(pd.read_csv(class_path)[\"display_name\"])\n",
    "class_names"
   ]
  },
  {
   "cell_type": "markdown",
   "metadata": {},
   "source": [
    "Load RGB Data"
   ]
  },
  {
   "cell_type": "code",
   "execution_count": 5,
   "metadata": {},
   "outputs": [],
   "source": [
    "def load_wav_16k_mono(fname, rate_out=16000):\n",
    "    sample_rate, data = wavfile.read(fname)\n",
    "    # n_samples = round(len(data) * rate_out / sample_rate)\n",
    "    wav = sps.resample(data, rate_out)\n",
    "    return wav\n",
    "\n",
    "def load_data_rgb_multi_class(data_dir):\n",
    "    labels = []\n",
    "    feature_arr = []\n",
    "    red = 0\n",
    "    green = 1\n",
    "    blue = 2\n",
    "    red_dir = os.path.join(data_dir, \"red\")\n",
    "    green_dir = os.path.join(data_dir, \"green\")\n",
    "    blue_dir = os.path.join(data_dir, \"blue\")\n",
    "    red_files = [os.path.join(red_dir, fname) for fname in os.listdir(red_dir)]\n",
    "    for wav_file in red_files:\n",
    "        xfeatures = load_wav_16k_mono(wav_file)\n",
    "        feature_arr.append(xfeatures.tolist())\n",
    "        labels.append(red)\n",
    "    green_files = [os.path.join(green_dir, fname) for fname in os.listdir(green_dir)]\n",
    "    for wav_file in green_files:\n",
    "        xfeatures = load_wav_16k_mono(wav_file)\n",
    "        feature_arr.append(xfeatures.tolist())\n",
    "        labels.append(green)\n",
    "    blue_files = [os.path.join(blue_dir, fname) for fname in os.listdir(blue_dir)[:10]]\n",
    "    for wav_file in blue_files:\n",
    "        xfeatures = load_wav_16k_mono(wav_file)\n",
    "        feature_arr.append(xfeatures.tolist())\n",
    "        labels.append(blue)\n",
    "    return np.array(feature_arr), np.array(labels)\n"
   ]
  },
  {
   "cell_type": "code",
   "execution_count": 6,
   "metadata": {},
   "outputs": [
    {
     "data": {
      "image/png": "[encoded data removed]",
      "text/plain": [
       "<Figure size 640x480 with 1 Axes>"
      ]
     },
     "metadata": {},
     "output_type": "display_data"
    }
   ],
   "source": [
    "data_dir = os.path.join(os.getcwd(), \"rgb_wavs\", \"rgb\")\n",
    "\n",
    "waveforms, labels = load_data_rgb_multi_class(data_dir)\n",
    "waveform0, label0 = waveforms[0], labels[0]\n",
    "plt.plot(waveform0)\n",
    "plt.title(label0)\n",
    "plt.show()"
   ]
  },
  {
   "cell_type": "markdown",
   "metadata": {},
   "source": [
    "Inspecting Waveforms with Librosa"
   ]
  },
  {
   "cell_type": "code",
   "execution_count": 7,
   "metadata": {},
   "outputs": [
    {
     "data": {
      "text/plain": [
       "<matplotlib.collections.QuadMesh at 0x2488cd5b820>"
      ]
     },
     "execution_count": 7,
     "metadata": {},
     "output_type": "execute_result"
    },
    {
     "data": {
      "image/png": "[encoded data removed]",
      "text/plain": [
       "<Figure size 640x480 with 1 Axes>"
      ]
     },
     "metadata": {},
     "output_type": "display_data"
    }
   ],
   "source": [
    "import librosa\n",
    "\n",
    "spec = librosa.stft(waveform0)\n",
    "mag = np.abs(spec)\n",
    "librosa.display.specshow(mag)"
   ]
  },
  {
   "cell_type": "markdown",
   "metadata": {},
   "source": [
    "Graph Magnitude to display features of Mel Spectrogram"
   ]
  },
  {
   "cell_type": "code",
   "execution_count": 8,
   "metadata": {},
   "outputs": [
    {
     "data": {
      "text/plain": [
       "<matplotlib.collections.QuadMesh at 0x2488ce9bac0>"
      ]
     },
     "execution_count": 8,
     "metadata": {},
     "output_type": "execute_result"
    },
    {
     "data": {
      "image/png": "[encoded data removed]",
      "text/plain": [
       "<Figure size 640x480 with 1 Axes>"
      ]
     },
     "metadata": {},
     "output_type": "display_data"
    }
   ],
   "source": [
    "spec_mag, spec_phase = librosa.magphase(spec)\n",
    "mel_spec = librosa.feature.melspectrogram(S=spec_mag, sr=16000)\n",
    "librosa.display.specshow(mel_spec)"
   ]
  },
  {
   "cell_type": "markdown",
   "metadata": {},
   "source": [
    "Graph Mel Spectrogram using Decibel Scale instead of Amplitude to visualize more spectrum being used"
   ]
  },
  {
   "cell_type": "code",
   "execution_count": 9,
   "metadata": {},
   "outputs": [
    {
     "data": {
      "text/plain": [
       "<matplotlib.colorbar.Colorbar at 0x2488cebbc40>"
      ]
     },
     "execution_count": 9,
     "metadata": {},
     "output_type": "execute_result"
    },
    {
     "data": {
      "image/png": "[encoded data removed]",
      "text/plain": [
       "<Figure size 640x480 with 2 Axes>"
      ]
     },
     "metadata": {},
     "output_type": "display_data"
    }
   ],
   "source": [
    "mel_spec = librosa.amplitude_to_db(mel_spec, ref=np.min)\n",
    "librosa.display.specshow(mel_spec, sr=16000, x_axis=\"time\", y_axis=\"mel\")\n",
    "plt.colorbar(format=\"%+2.0f dB\")"
   ]
  },
  {
   "cell_type": "markdown",
   "metadata": {},
   "source": [
    "Inference with YAMNET model"
   ]
  },
  {
   "cell_type": "code",
   "execution_count": 10,
   "metadata": {},
   "outputs": [
    {
     "name": "stdout",
     "output_type": "stream",
     "text": [
      "The main sound is: Speech\n",
      "The embeddings shape: (2, 1024)\n",
      "Shape of spectrogram: (144, 64)\n"
     ]
    }
   ],
   "source": [
    "scores, embeddings, spectrogram = model(waveform0)\n",
    "class_scores = tf.reduce_mean(scores, axis=0)\n",
    "top_class = tf.math.argmax(class_scores)\n",
    "inferred_class = class_names[top_class]\n",
    "\n",
    "print(f'The main sound is: {inferred_class}')\n",
    "print(f'The embeddings shape: {embeddings.shape}')\n",
    "print(f\"Shape of spectrogram: {np.shape(spectrogram)}\")"
   ]
  },
  {
   "cell_type": "code",
   "execution_count": 11,
   "metadata": {},
   "outputs": [
    {
     "name": "stdout",
     "output_type": "stream",
     "text": [
      "(144, 64)\n"
     ]
    },
    {
     "data": {
      "text/plain": [
       "<matplotlib.collections.QuadMesh at 0x2488cfbe170>"
      ]
     },
     "execution_count": 11,
     "metadata": {},
     "output_type": "execute_result"
    },
    {
     "data": {
      "image/png": "[encoded data removed]",
      "text/plain": [
       "<Figure size 640x480 with 1 Axes>"
      ]
     },
     "metadata": {},
     "output_type": "display_data"
    }
   ],
   "source": [
    "spec_mag = np.abs(spectrogram)\n",
    "print(np.shape(spec_mag))\n",
    "librosa.display.specshow(spec_mag)"
   ]
  },
  {
   "cell_type": "markdown",
   "metadata": {},
   "source": [
    "Prepare RGB data for YAMNET model"
   ]
  },
  {
   "cell_type": "code",
   "execution_count": 12,
   "metadata": {},
   "outputs": [
    {
     "name": "stdout",
     "output_type": "stream",
     "text": [
      "Data Shape: (32, 16000)\n",
      "Labels Shape: (32,)\n"
     ]
    }
   ],
   "source": [
    "data_shape = np.shape(waveforms)\n",
    "labels_shape = np.shape(labels)\n",
    "print(f\"Data Shape: {data_shape}\")\n",
    "print(f\"Labels Shape: {labels_shape}\")"
   ]
  },
  {
   "cell_type": "markdown",
   "metadata": {},
   "source": [
    "The RGB dataset is in numpy arrays, now extract embeddings with YAMNET model"
   ]
  },
  {
   "cell_type": "code",
   "execution_count": 13,
   "metadata": {},
   "outputs": [
    {
     "data": {
      "text/plain": [
       "(<tf.Tensor: shape=(2, 1024), dtype=float32, numpy=\n",
       " array([[0.0000000e+00, 3.7740839e+00, 2.0003208e+01, ..., 1.0042451e+01,\n",
       "         0.0000000e+00, 0.0000000e+00],\n",
       "        [0.0000000e+00, 7.4133924e-03, 1.3435398e+00, ..., 0.0000000e+00,\n",
       "         0.0000000e+00, 0.0000000e+00]], dtype=float32)>,\n",
       " array([0, 0]))"
      ]
     },
     "execution_count": 13,
     "metadata": {},
     "output_type": "execute_result"
    }
   ],
   "source": [
    "def extract_embedding(waveform, label):\n",
    "    scores, embeddings, spectrogram = model(waveform)\n",
    "    num_embed = np.shape(embeddings)[0]\n",
    "    return embeddings, np.repeat(label, num_embed)\n",
    "\n",
    "xwav = extract_embedding(waveforms[0], labels[0])\n",
    "xwav\n"
   ]
  },
  {
   "cell_type": "code",
   "execution_count": 14,
   "metadata": {},
   "outputs": [
    {
     "name": "stdout",
     "output_type": "stream",
     "text": [
      "(64, 1024)\n",
      "(64,)\n"
     ]
    }
   ],
   "source": [
    "data = []\n",
    "data_labels = []\n",
    "\n",
    "for waveform, label in zip(waveforms, labels):\n",
    "    d, l = extract_embedding(waveform, label)\n",
    "    data.extend(d)\n",
    "    data_labels.extend(l)\n",
    "\n",
    "data = np.array(data)\n",
    "data_labels = np.array(data_labels)\n",
    "print(np.shape(data))\n",
    "print(np.shape(data_labels))"
   ]
  },
  {
   "cell_type": "code",
   "execution_count": 15,
   "metadata": {},
   "outputs": [
    {
     "name": "stdout",
     "output_type": "stream",
     "text": [
      "Model: \"rgb_model\"\n",
      "_________________________________________________________________\n",
      " Layer (type)                Output Shape              Param #   \n",
      "=================================================================\n",
      " dense (Dense)               (None, 512)               524800    \n",
      "                                                                 \n",
      " dense_1 (Dense)             (None, 3)                 1539      \n",
      "                                                                 \n",
      "=================================================================\n",
      "Total params: 526,339\n",
      "Trainable params: 526,339\n",
      "Non-trainable params: 0\n",
      "_________________________________________________________________\n"
     ]
    }
   ],
   "source": [
    "rgb_model = tf.keras.Sequential([\n",
    "    tf.keras.layers.Input(shape=(1024,), dtype=tf.float32,\n",
    "                          name='input_embedding'),\n",
    "    tf.keras.layers.Dense(512, activation='relu'),\n",
    "    tf.keras.layers.Dense(3)\n",
    "], name='rgb_model')\n",
    "\n",
    "rgb_model.summary()"
   ]
  },
  {
   "cell_type": "code",
   "execution_count": 16,
   "metadata": {},
   "outputs": [
    {
     "name": "stdout",
     "output_type": "stream",
     "text": [
      "Epoch 1/40\n",
      "2/2 [==============================] - 1s 159ms/step - loss: 3.4218 - accuracy: 0.4035 - val_loss: 0.7032 - val_accuracy: 0.8571\n",
      "Epoch 2/40\n",
      "2/2 [==============================] - 0s 33ms/step - loss: 1.9024 - accuracy: 0.5263 - val_loss: 4.0023 - val_accuracy: 0.0000e+00\n",
      "Epoch 3/40\n",
      "2/2 [==============================] - 0s 36ms/step - loss: 1.2682 - accuracy: 0.5439 - val_loss: 6.2686 - val_accuracy: 0.0000e+00\n",
      "Epoch 4/40\n",
      "2/2 [==============================] - 0s 44ms/step - loss: 1.1714 - accuracy: 0.6140 - val_loss: 6.7995 - val_accuracy: 0.0000e+00\n",
      "Epoch 5/40\n",
      "2/2 [==============================] - 0s 27ms/step - loss: 1.1333 - accuracy: 0.5789 - val_loss: 6.2851 - val_accuracy: 0.0000e+00\n",
      "Epoch 6/40\n",
      "2/2 [==============================] - 0s 27ms/step - loss: 0.8842 - accuracy: 0.6667 - val_loss: 5.4768 - val_accuracy: 0.2857\n",
      "Epoch 7/40\n",
      "2/2 [==============================] - 0s 30ms/step - loss: 0.7747 - accuracy: 0.7193 - val_loss: 4.2259 - val_accuracy: 0.2857\n",
      "Epoch 8/40\n",
      "2/2 [==============================] - 0s 27ms/step - loss: 0.6295 - accuracy: 0.7719 - val_loss: 2.9803 - val_accuracy: 0.7143\n",
      "Epoch 9/40\n",
      "2/2 [==============================] - 0s 28ms/step - loss: 0.5463 - accuracy: 0.8246 - val_loss: 2.0959 - val_accuracy: 0.7143\n",
      "Epoch 10/40\n",
      "2/2 [==============================] - 0s 28ms/step - loss: 0.5417 - accuracy: 0.7719 - val_loss: 1.8367 - val_accuracy: 0.7143\n",
      "Epoch 11/40\n",
      "2/2 [==============================] - 0s 27ms/step - loss: 0.4908 - accuracy: 0.8421 - val_loss: 2.1926 - val_accuracy: 0.5714\n",
      "Epoch 12/40\n",
      "2/2 [==============================] - 0s 28ms/step - loss: 0.3922 - accuracy: 0.8772 - val_loss: 2.8199 - val_accuracy: 0.5714\n",
      "Epoch 13/40\n",
      "2/2 [==============================] - 0s 30ms/step - loss: 0.3602 - accuracy: 0.9298 - val_loss: 3.3470 - val_accuracy: 0.5714\n",
      "Epoch 14/40\n",
      "2/2 [==============================] - 0s 27ms/step - loss: 0.3617 - accuracy: 0.9298 - val_loss: 3.5850 - val_accuracy: 0.5714\n",
      "Epoch 15/40\n",
      "2/2 [==============================] - 0s 28ms/step - loss: 0.3297 - accuracy: 0.9298 - val_loss: 3.3408 - val_accuracy: 0.5714\n",
      "Epoch 16/40\n",
      "2/2 [==============================] - 0s 28ms/step - loss: 0.3010 - accuracy: 0.9298 - val_loss: 2.8563 - val_accuracy: 0.5714\n",
      "Epoch 17/40\n",
      "2/2 [==============================] - 0s 27ms/step - loss: 0.2808 - accuracy: 0.9649 - val_loss: 2.3167 - val_accuracy: 0.5714\n",
      "Epoch 18/40\n",
      "2/2 [==============================] - 0s 28ms/step - loss: 0.2555 - accuracy: 0.9825 - val_loss: 1.9066 - val_accuracy: 0.5714\n",
      "Epoch 19/40\n",
      "2/2 [==============================] - 0s 28ms/step - loss: 0.2330 - accuracy: 0.9825 - val_loss: 1.6968 - val_accuracy: 0.5714\n",
      "Epoch 20/40\n",
      "2/2 [==============================] - 0s 28ms/step - loss: 0.2177 - accuracy: 1.0000 - val_loss: 1.6352 - val_accuracy: 0.5714\n",
      "Epoch 21/40\n",
      "2/2 [==============================] - 0s 28ms/step - loss: 0.1996 - accuracy: 1.0000 - val_loss: 1.5763 - val_accuracy: 0.5714\n",
      "Epoch 22/40\n",
      "2/2 [==============================] - 0s 26ms/step - loss: 0.1842 - accuracy: 1.0000 - val_loss: 1.5115 - val_accuracy: 0.5714\n",
      "Epoch 23/40\n",
      "2/2 [==============================] - 0s 27ms/step - loss: 0.1731 - accuracy: 0.9825 - val_loss: 1.4422 - val_accuracy: 0.5714\n",
      "Epoch 24/40\n",
      "2/2 [==============================] - 0s 28ms/step - loss: 0.1632 - accuracy: 0.9825 - val_loss: 1.3695 - val_accuracy: 0.5714\n",
      "Epoch 25/40\n",
      "2/2 [==============================] - 0s 28ms/step - loss: 0.1513 - accuracy: 1.0000 - val_loss: 1.2755 - val_accuracy: 0.5714\n",
      "Epoch 26/40\n",
      "2/2 [==============================] - 0s 27ms/step - loss: 0.1411 - accuracy: 1.0000 - val_loss: 1.1895 - val_accuracy: 0.5714\n",
      "Epoch 27/40\n",
      "2/2 [==============================] - 0s 27ms/step - loss: 0.1304 - accuracy: 1.0000 - val_loss: 1.1746 - val_accuracy: 0.5714\n",
      "Epoch 28/40\n",
      "2/2 [==============================] - 0s 28ms/step - loss: 0.1226 - accuracy: 1.0000 - val_loss: 1.1641 - val_accuracy: 0.5714\n",
      "Epoch 29/40\n",
      "2/2 [==============================] - 0s 28ms/step - loss: 0.1144 - accuracy: 1.0000 - val_loss: 1.2159 - val_accuracy: 0.5714\n",
      "Epoch 30/40\n",
      "2/2 [==============================] - 0s 28ms/step - loss: 0.1070 - accuracy: 1.0000 - val_loss: 1.2818 - val_accuracy: 0.5714\n",
      "Epoch 31/40\n",
      "2/2 [==============================] - 0s 28ms/step - loss: 0.1002 - accuracy: 1.0000 - val_loss: 1.3542 - val_accuracy: 0.5714\n",
      "Epoch 32/40\n",
      "2/2 [==============================] - 0s 28ms/step - loss: 0.0940 - accuracy: 1.0000 - val_loss: 1.4292 - val_accuracy: 0.5714\n",
      "Epoch 33/40\n",
      "2/2 [==============================] - 0s 30ms/step - loss: 0.0891 - accuracy: 1.0000 - val_loss: 1.4802 - val_accuracy: 0.5714\n",
      "Epoch 34/40\n",
      "2/2 [==============================] - 0s 29ms/step - loss: 0.0834 - accuracy: 1.0000 - val_loss: 1.4798 - val_accuracy: 0.5714\n",
      "Epoch 35/40\n",
      "2/2 [==============================] - 0s 28ms/step - loss: 0.0783 - accuracy: 1.0000 - val_loss: 1.4665 - val_accuracy: 0.5714\n",
      "Epoch 36/40\n",
      "2/2 [==============================] - 0s 29ms/step - loss: 0.0739 - accuracy: 1.0000 - val_loss: 1.4381 - val_accuracy: 0.5714\n",
      "Epoch 37/40\n",
      "2/2 [==============================] - 0s 29ms/step - loss: 0.0695 - accuracy: 1.0000 - val_loss: 1.4286 - val_accuracy: 0.5714\n",
      "Epoch 38/40\n",
      "2/2 [==============================] - 0s 28ms/step - loss: 0.0653 - accuracy: 1.0000 - val_loss: 1.4283 - val_accuracy: 0.5714\n",
      "Epoch 39/40\n",
      "2/2 [==============================] - 0s 27ms/step - loss: 0.0622 - accuracy: 1.0000 - val_loss: 1.4045 - val_accuracy: 0.5714\n",
      "Epoch 40/40\n",
      "2/2 [==============================] - 0s 27ms/step - loss: 0.0588 - accuracy: 1.0000 - val_loss: 1.3908 - val_accuracy: 0.5714\n"
     ]
    }
   ],
   "source": [
    "rgb_model.compile(loss=tf.keras.losses.SparseCategoricalCrossentropy(from_logits=True), optimizer=\"adam\", metrics=['accuracy'])\n",
    "callback = tf.keras.callbacks.EarlyStopping(monitor=\"loss\", patience=3, restore_best_weights=True)\n",
    "history = rgb_model.fit(data, data_labels, epochs=40, validation_split=0.1, callbacks=callback)"
   ]
  },
  {
   "cell_type": "code",
   "execution_count": 17,
   "metadata": {},
   "outputs": [
    {
     "name": "stdout",
     "output_type": "stream",
     "text": [
      "Inferred Result: blue\n"
     ]
    }
   ],
   "source": [
    "test_file = os.path.join(os.getcwd(), \"rgb_wavs\", \"rgb\", \"blue\", \"blue12.wav\")\n",
    "test_data = load_wav_16k_mono(test_file)\n",
    "class_dict = {0: \"red\", 1: \"green\", 2: \"blue\"}\n",
    "\n",
    "score, embed, spec = model(test_data)\n",
    "res = rgb_model(embed).numpy()\n",
    "inferred_res = class_dict[res.mean(axis=0).argmax()]\n",
    "print(f\"Inferred Result: {inferred_res}\")"
   ]
  },
  {
   "cell_type": "markdown",
   "metadata": {},
   "source": [
    "Export model for use with YAMNET"
   ]
  },
  {
   "cell_type": "markdown",
   "metadata": {},
   "source": [
    "The following tensorflow package versions are needed for transfer learning to export yamnet with rgb_model layer:\n",
    "\n",
    "    !pip install -q \"tensorflow==2.11.*\"\n",
    "    # tensorflow_io 0.28 is compatible with TensorFlow 2.11\n",
    "    !pip install -q \"tensorflow_io==0.28.*\""
   ]
  },
  {
   "cell_type": "code",
   "execution_count": 18,
   "metadata": {},
   "outputs": [],
   "source": [
    "save_dir = os.path.join(os.getcwd(), \"models\", \"rgb_model\")\n",
    "if not os.path.exists(save_dir):\n",
    "    os.mkdir(save_dir)\n",
    "\n",
    "class ReduceMeanLayer(tf.keras.layers.Layer):\n",
    "\n",
    "    def __init__(self, axis=0, **kwargs):\n",
    "        super(ReduceMeanLayer, self).__init__(**kwargs)\n",
    "        self.axis = axis\n",
    "\n",
    "    def call(self, inpt):\n",
    "        return tf.math.reduce_mean(inpt, axis=self.axis)"
   ]
  },
  {
   "cell_type": "code",
   "execution_count": 22,
   "metadata": {},
   "outputs": [
    {
     "name": "stdout",
     "output_type": "stream",
     "text": [
      "WARNING:tensorflow:No training configuration found in save file, so the model was *not* compiled. Compile it manually.\n"
     ]
    },
    {
     "name": "stderr",
     "output_type": "stream",
     "text": [
      "WARNING:tensorflow:No training configuration found in save file, so the model was *not* compiled. Compile it manually.\n"
     ]
    }
   ],
   "source": [
    "model_dir = os.path.join(os.getcwd(), \"models\", \"rgb_model\")\n",
    "# tf.saved_model.save(model, model_dir)\n",
    "model = tf.keras.models.load_model(model_dir)"
   ]
  },
  {
   "cell_type": "code",
   "execution_count": 23,
   "metadata": {},
   "outputs": [
    {
     "name": "stdout",
     "output_type": "stream",
     "text": [
      "Model: \"model\"\n",
      "_________________________________________________________________\n",
      " Layer (type)                Output Shape              Param #   \n",
      "=================================================================\n",
      " audio (InputLayer)          [(None,)]                 0         \n",
      "                                                                 \n",
      " yamnet (KerasLayer)         [(None, 521),             0         \n",
      "                              (None, 1024),                      \n",
      "                              (None, 64)]                        \n",
      "                                                                 \n",
      " rgb_model (Sequential)      (None, 3)                 526339    \n",
      "                                                                 \n",
      " classifier (ReduceMeanLayer  (3,)                     0         \n",
      " )                                                               \n",
      "                                                                 \n",
      "=================================================================\n",
      "Total params: 526,339\n",
      "Trainable params: 526,339\n",
      "Non-trainable params: 0\n",
      "_________________________________________________________________\n"
     ]
    }
   ],
   "source": [
    "model.summary()"
   ]
  },
  {
   "cell_type": "code",
   "execution_count": 21,
   "metadata": {},
   "outputs": [
    {
     "name": "stdout",
     "output_type": "stream",
     "text": [
      "WARNING:tensorflow:From c:\\py_repos\\audio_recognition\\venv\\lib\\site-packages\\tensorflow\\python\\autograph\\pyct\\static_analysis\\liveness.py:83: Analyzer.lamba_check (from tensorflow.python.autograph.pyct.static_analysis.liveness) is deprecated and will be removed after 2023-09-23.\n",
      "Instructions for updating:\n",
      "Lambda fuctions will be no more assumed to be used in the statement where they are used, or at least in the same block. https://github.com/tensorflow/tensorflow/issues/56089\n"
     ]
    },
    {
     "name": "stderr",
     "output_type": "stream",
     "text": [
      "WARNING:tensorflow:From c:\\py_repos\\audio_recognition\\venv\\lib\\site-packages\\tensorflow\\python\\autograph\\pyct\\static_analysis\\liveness.py:83: Analyzer.lamba_check (from tensorflow.python.autograph.pyct.static_analysis.liveness) is deprecated and will be removed after 2023-09-23.\n",
      "Instructions for updating:\n",
      "Lambda fuctions will be no more assumed to be used in the statement where they are used, or at least in the same block. https://github.com/tensorflow/tensorflow/issues/56089\n"
     ]
    },
    {
     "name": "stdout",
     "output_type": "stream",
     "text": [
      "WARNING:tensorflow:Compiled the loaded model, but the compiled metrics have yet to be built. `model.compile_metrics` will be empty until you train or evaluate the model.\n"
     ]
    },
    {
     "name": "stderr",
     "output_type": "stream",
     "text": [
      "WARNING:tensorflow:Compiled the loaded model, but the compiled metrics have yet to be built. `model.compile_metrics` will be empty until you train or evaluate the model.\n",
      "WARNING:absl:Found untraced functions such as _update_step_xla while saving (showing 1 of 1). These functions will not be directly callable after loading.\n"
     ]
    },
    {
     "name": "stdout",
     "output_type": "stream",
     "text": [
      "INFO:tensorflow:Assets written to: c:\\py_repos\\audio_recognition\\models\\rgb_model\\assets\n"
     ]
    },
    {
     "name": "stderr",
     "output_type": "stream",
     "text": [
      "INFO:tensorflow:Assets written to: c:\\py_repos\\audio_recognition\\models\\rgb_model\\assets\n"
     ]
    }
   ],
   "source": [
    "yamnet_model_handle = 'https://tfhub.dev/google/yamnet/1'\n",
    "input_segment = tf.keras.layers.Input(shape=(), dtype=tf.float32, name='audio')\n",
    "embedding_extraction_layer = hub.KerasLayer(yamnet_model_handle,\n",
    "                                            trainable=False, name='yamnet')\n",
    "_, embeddings_output, _ = embedding_extraction_layer(input_segment)\n",
    "serving_outputs = rgb_model(embeddings_output)\n",
    "serving_outputs = ReduceMeanLayer(axis=0, name='classifier')(serving_outputs)\n",
    "serving_model = tf.keras.Model(input_segment, serving_outputs)\n",
    "serving_model.save(save_dir, include_optimizer=False)"
   ]
  }
 ],
 "metadata": {
  "kernelspec": {
   "display_name": "venv",
   "language": "python",
   "name": "python3"
  },
  "language_info": {
   "codemirror_mode": {
    "name": "ipython",
    "version": 3
   },
   "file_extension": ".py",
   "mimetype": "text/x-python",
   "name": "python",
   "nbconvert_exporter": "python",
   "pygments_lexer": "ipython3",
   "version": "3.10.6"
  }
 },
 "nbformat": 4,
 "nbformat_minor": 2
}
